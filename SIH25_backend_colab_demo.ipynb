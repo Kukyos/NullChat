{
 "cells": [
  {
   "cell_type": "code",
   "execution_count": null,
   "id": "6a5679fa",
   "metadata": {},
   "outputs": [],
   "source": [
    "# SIH25 Backend & Frontend: Quick Colab Launcher\n",
    "\n",
    "# This Colab notebook will help you and your teammates run both the backend (FastAPI) and frontend (React) for the SIH25 multilingual chatbot project with minimal setup.\n",
    "\n",
    "# **What this notebook does:**\n",
    "# - Installs all required Python and Node.js dependencies\n",
    "# - Prompts for your ngrok authtoken and LLM API keys (Groq, Gemini)\n",
    "# - Clones the latest code from GitHub\n",
    "# - Starts the backend server (FastAPI) and exposes it via ngrok\n",
    "# - Starts the frontend (Vite React app) and exposes it via ngrok\n",
    "# - Prints public URLs for both backend and frontend\n",
    "\n",
    "# ---"
   ]
  },
  {
   "cell_type": "code",
   "execution_count": null,
   "id": "aabbb5ce",
   "metadata": {},
   "outputs": [],
   "source": [
    "# Install all dependencies and import libraries\n",
    "# Upgrade Node.js to v18 (required for Vite/React)\n",
    "!curl -fsSL https://deb.nodesource.com/setup_18.x | bash -\n",
    "!apt-get install -y nodejs\n",
    "!node -v\n",
    "!npm -v\n",
    "# Python, Node.js, and ngrok setup\n",
    "!pip install fastapi uvicorn python-dotenv googletrans==4.0.0-rc1 sqlalchemy requests pyngrok --quiet\n",
    "\n",
    "import os\n",
    "from pyngrok import ngrok\n",
    "import threading\n",
    "import time\n",
    "import requests\n",
    "from dotenv import load_dotenv"
   ]
  },
  {
   "cell_type": "code",
   "execution_count": null,
   "id": "5736718b",
   "metadata": {},
   "outputs": [],
   "source": [
    "# Kill stray backend/frontend processes on ports 8000 and 5173\n",
    "import os\n",
    "for port in [8000, 5173]:\n",
    "    try:\n",
    "        output = os.popen(f\"lsof -ti tcp:{port}\").read()\n",
    "        pids = [pid for pid in output.strip().split('\\n') if pid]\n",
    "        for pid in pids:\n",
    "            print(f\"Killing process {pid} on port {port}\")\n",
    "            os.system(f\"kill -9 {pid}\")\n",
    "    except Exception as e:\n",
    "        print(f\"Error killing processes on port {port}: {e}\")\n",
    "print(\"Done. If you still see 'address already in use', restart the runtime.\")"
   ]
  },
  {
   "cell_type": "code",
   "execution_count": null,
   "id": "15d174e9",
   "metadata": {},
   "outputs": [],
   "source": [
    "# Ask for ngrok authtoken and LLM API keys\n",
    "NGROK_AUTH_TOKEN = input('Enter your ngrok authtoken: ')\n",
    "ngrok.set_auth_token(NGROK_AUTH_TOKEN)\n",
    "\n",
    "llm_choice = input('Which LLM do you want to use? (groq/gemini/both): ').strip().lower()\n",
    "\n",
    "if llm_choice in ('groq', 'both'):\n",
    "    GROQ_API_KEY = input('Enter your Groq API key: ')\n",
    "    os.environ['GROQ_API_KEY'] = GROQ_API_KEY\n",
    "if llm_choice in ('gemini', 'both'):\n",
    "    GEMINI_API_KEY = input('Enter your Gemini API key: ')\n",
    "    os.environ['GEMINI_API_KEY'] = GEMINI_API_KEY"
   ]
  },
  {
   "cell_type": "code",
   "execution_count": null,
   "id": "28460281",
   "metadata": {},
   "outputs": [],
   "source": [
    "# Clone repo and install backend/frontend dependencies\n",
    "!git clone https://github.com/Kukyos/NullChat.git\n",
    "%cd NullChat/backend\n",
    "!pip install -r ../backend/requirements.txt --quiet\n",
    "%cd ../frontend\n",
    "!npm install --legacy-peer-deps > /dev/null\n",
    "%cd ../backend"
   ]
  },
  {
   "cell_type": "code",
   "execution_count": null,
   "id": "b49d2d87",
   "metadata": {},
   "outputs": [],
   "source": [
    "# Start FastAPI backend with ngrok\n",
    "load_dotenv()\n",
    "public_url_backend = ngrok.connect(8000, bind_tls=True).public_url\n",
    "print(f\"Public FastAPI endpoint: {public_url_backend}\")\n",
    "\n",
    "def run_backend():\n",
    "    import uvicorn\n",
    "    uvicorn.run(\"app.main:app\", host=\"0.0.0.0\", port=8000, reload=False)\n",
    "\n",
    "backend_thread = threading.Thread(target=run_backend)\n",
    "backend_thread.start()\n",
    "time.sleep(5)"
   ]
  },
  {
   "cell_type": "code",
   "execution_count": null,
   "id": "609290e4",
   "metadata": {},
   "outputs": [],
   "source": [
    "# Start Vite React frontend with ngrok\n",
    "%cd ../frontend\n",
    "public_url_frontend = ngrok.connect(5173, bind_tls=True).public_url\n",
    "print(f\"Public Frontend (React) URL: {public_url_frontend}\")\n",
    "\n",
    "# Start Vite dev server in a thread\n",
    "def run_frontend():\n",
    "    os.system(\"npm run dev -- --host 0.0.0.0 --port 5173\")\n",
    "\n",
    "frontend_thread = threading.Thread(target=run_frontend)\n",
    "frontend_thread.start()\n",
    "%cd ../backend\n",
    "# Wait a bit for frontend to start\n",
    "time.sleep(10)"
   ]
  },
  {
   "cell_type": "code",
   "execution_count": null,
   "id": "725ec16d",
   "metadata": {},
   "outputs": [],
   "source": [
    "# Test the /ask endpoint (backend)\n",
    "url = f\"{public_url_backend}/ask\"\n",
    "payload = {\n",
    "    \"query\": \"What are the hostel facilities?\",\n",
    "    \"language\": \"en\"\n",
    "}\n",
    "\n",
    "try:\n",
    "    response = requests.post(url, json=payload)\n",
    "    print(\"Backend /ask response:\", response.json())\n",
    "except Exception as e:\n",
    "    print(\"Error calling backend API:\", e)\n",
    "\n",
    "print(f\"\\nShare this backend API URL with your teammates: {public_url_backend}\")\n",
    "print(f\"Share this frontend URL with your teammates: {public_url_frontend}\")"
   ]
  },
  {
   "cell_type": "markdown",
   "id": "cd772090",
   "metadata": {},
   "source": [
    "---\n",
    "\n",
    "**Instructions:**\n",
    "- Run each cell in order.\n",
    "- When prompted, paste your ngrok authtoken and API keys (they are not stored in the notebook or repo).\n",
    "- The notebook will print public URLs for both backend and frontend—share these with your teammates for testing.\n",
    "\n",
    "---\n",
    "\n",
    "**Note:** This notebook is for demo/testing only. For production, deploy on a secure server and never share your API keys or ngrok token."
   ]
  }
 ],
 "metadata": {
  "language_info": {
   "name": "python"
  }
 },
 "nbformat": 4,
 "nbformat_minor": 5
}
